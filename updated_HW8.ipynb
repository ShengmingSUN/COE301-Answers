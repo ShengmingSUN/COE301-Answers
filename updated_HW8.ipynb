{
  "nbformat": 4,
  "nbformat_minor": 0,
  "metadata": {
    "colab": {
      "provenance": []
    },
    "kernelspec": {
      "name": "python3",
      "display_name": "Python 3"
    },
    "language_info": {
      "name": "python"
    }
  },
  "cells": [
    {
      "cell_type": "markdown",
      "source": [
        "## Due March 28th 2025, 11:59pm\n",
        "\n",
        "**Instructions:** Code can be added by `+Code` tab and text can be added by `+Text` tab whenever needed.\n",
        "\n"
      ],
      "metadata": {
        "id": "7Bnq-ZfWfHYw"
      }
    },
    {
      "cell_type": "markdown",
      "source": [
        "## Problem 1. [10 points]\n",
        "Short problems to practice syntax."
      ],
      "metadata": {
        "id": "nT8sHIOqgMWI"
      }
    },
    {
      "cell_type": "markdown",
      "source": [
        "1.1 Print \"Hello, everyone in COE 301! I am [Your name].\""
      ],
      "metadata": {
        "id": "vYmYyxkZgXVl"
      }
    },
    {
      "cell_type": "code",
      "source": [
        "print(\"Hello, everyone in COE 301! I am Shengming SUN.\")"
      ],
      "metadata": {
        "id": "SN1AA7-NfaVu",
        "outputId": "2aac8201-a799-44a3-fbf9-3b9e90ac25d2",
        "colab": {
          "base_uri": "https://localhost:8080/"
        }
      },
      "execution_count": null,
      "outputs": [
        {
          "output_type": "stream",
          "name": "stdout",
          "text": [
            "Hello, everyone in COE 301! I am Shengming SUN.\n"
          ]
        }
      ]
    },
    {
      "cell_type": "markdown",
      "source": [
        "1.2 print the mathematical Euler's number $e$ to 4 decimal"
      ],
      "metadata": {
        "id": "eoR6HvoPh363"
      }
    },
    {
      "cell_type": "code",
      "source": [
        "import math\n",
        "a = math.e\n",
        "print(f\"The mathematical Euler's number e to 4 decimal is {a:.4f}\")"
      ],
      "metadata": {
        "id": "4akOaRXTh1Bl",
        "outputId": "98fc8355-1207-4390-82c5-15eedb8e035f",
        "colab": {
          "base_uri": "https://localhost:8080/"
        }
      },
      "execution_count": null,
      "outputs": [
        {
          "output_type": "stream",
          "name": "stdout",
          "text": [
            "The mathematical Euler's number e to 4 decimal is 2.7183\n"
          ]
        }
      ]
    },
    {
      "cell_type": "markdown",
      "source": [
        "1.3 Print out the value of $y = sin(t) +cos(5t) +0.5sin(10t)+0.8cos(20t)$ when $t = 3$"
      ],
      "metadata": {
        "id": "ylcV0LlwkoK9"
      }
    },
    {
      "cell_type": "code",
      "source": [
        "from math import sin,cos\n",
        "t = 3\n",
        "y = sin(t) + cos(5*t) + 0.5 * sin(10*t) + 0.8 * cos(20*t)\n",
        "print(f\"The value of y is {y}\")"
      ],
      "metadata": {
        "id": "Xj2orkDukna3",
        "outputId": "315f6a30-5a41-4016-cb0d-a565209cc90d",
        "colab": {
          "base_uri": "https://localhost:8080/"
        }
      },
      "execution_count": null,
      "outputs": [
        {
          "output_type": "stream",
          "name": "stdout",
          "text": [
            "The value of y is -1.87451410117751\n"
          ]
        }
      ]
    },
    {
      "cell_type": "markdown",
      "source": [
        "1.4 Write a function named `WaterTank`, which takes $r$ and $h$ as input and return $V = \\pi r^2 h$. Print the value of $V$ when $r = 2.5$ and $h = 2.4$. (We did in C++ for this in HW2)"
      ],
      "metadata": {
        "id": "sfVflL_ileMp"
      }
    },
    {
      "cell_type": "code",
      "source": [
        "import math\n",
        "def WaterTank(r,h):\n",
        "  V = math.pi * math.pow(r,2) * h\n",
        "  return V\n",
        "print(f\"The value of V is {WaterTank(2.5,2.4)}\")"
      ],
      "metadata": {
        "id": "vLj1zABBi6uE",
        "outputId": "4ee2d77d-6ee3-4886-c15e-88bb502f4b5e",
        "colab": {
          "base_uri": "https://localhost:8080/"
        }
      },
      "execution_count": null,
      "outputs": [
        {
          "output_type": "stream",
          "name": "stdout",
          "text": [
            "The value of V is 47.1238898038469\n"
          ]
        }
      ]
    },
    {
      "cell_type": "markdown",
      "source": [
        "1.5 A number is considered \"Lucky\" if it is divisible by 7. If the number is also divisible by 13, it is considered \"Extra Lucky\". Use list comprehensions to print out all \"Lucky\" positive numbers less than 100 and all \"Extra Lucky\" positive numbers less than 100."
      ],
      "metadata": {
        "id": "6wOivNs_odFo"
      }
    },
    {
      "cell_type": "code",
      "source": [
        "Lucky = []\n",
        "Extra_Lucky = []\n",
        "for i in range(100):\n",
        "  if i % 7 == 0:\n",
        "    Lucky.append(i)\n",
        "  elif i % 13 == 0:\n",
        "    Extra_Lucky.append(i)\n",
        "print(f\"Lucky:{Lucky}\")\n",
        "print(f\"Extra Lucky:{Extra_Lucky}\")\n"
      ],
      "metadata": {
        "id": "GNz14nKaltJN",
        "outputId": "b2803299-c406-4ccc-e5a0-8f4e4ee6e31e",
        "colab": {
          "base_uri": "https://localhost:8080/"
        }
      },
      "execution_count": null,
      "outputs": [
        {
          "output_type": "stream",
          "name": "stdout",
          "text": [
            "Lucky:[0, 7, 14, 21, 28, 35, 42, 49, 56, 63, 70, 77, 84, 91, 98]\n",
            "Extra Lucky:[13, 26, 39, 52, 65, 78]\n"
          ]
        }
      ]
    },
    {
      "cell_type": "markdown",
      "source": [
        "## Problem 2. [15 Points]\n",
        "Define a class `UT_ID` with methods of `set_EID`, `state_EID`, `set_ID_number`, `state_IDnumber` and `say_sth`. Create an object of yourself, with your name, set your EID and IDnumber with the created object. Print your EID and ID number using `state_EID` and `state_IDnumber`. Use `say_sth` to print out {your name} says: I love UT!"
      ],
      "metadata": {
        "id": "HEcbFs1nqXma"
      }
    },
    {
      "cell_type": "code",
      "source": [
        "class UT_ID:\n",
        "  def __init__(self, name:str = None):\n",
        "    self.name = name\n",
        "    print(f\"A student with name{self.name} has been created.\")\n",
        "  def set_EID(self, EID:str = None):\n",
        "    self.EID = EID\n",
        "\n",
        "  def state_EID(self):\n",
        "    print(f\"EID of {self.name} is {self.EID}\")\n",
        "\n",
        "  def set_ID_number(self, ID_number = None):\n",
        "    self.ID_number = ID_number\n",
        "\n",
        "  def state_IDnumber(self):\n",
        "    print(f\"ID number of {self.name} is {self.ID_number}\")\n",
        "\n",
        "  def say_sth(self, love:str = \"I love UT\"):\n",
        "    print(f\"{self.name} says: {love}\")\n",
        "Shengming = UT_ID(name = \"Shengming\")\n",
        "Shengming.set_EID(EID = \"ss234775\")\n",
        "Shengming.set_ID_number(ID_number=6008619008555795)\n",
        "\n",
        "Shengming.state_EID()\n",
        "Shengming.state_IDnumber()\n",
        "Shengming.say_sth()"
      ],
      "metadata": {
        "id": "8McUudDlpJ9n",
        "outputId": "d61b9ae9-0073-43ba-ea1a-f031268ae9c0",
        "colab": {
          "base_uri": "https://localhost:8080/"
        }
      },
      "execution_count": null,
      "outputs": [
        {
          "output_type": "stream",
          "name": "stdout",
          "text": [
            "A student with nameShengming has been created.\n",
            "EID of Shengming is ss234775\n",
            "ID number of Shengming is 6008619008555795\n",
            "Shengming says: I love UT\n"
          ]
        }
      ]
    },
    {
      "cell_type": "markdown",
      "source": [
        "## Problem 3. [15 Points]\n",
        "Recall that we used numerical integration to approximate the value of $\\pi$ in HW4 with C++. Now write a python code to implement this. Declare a function named `NI_PI` with input N (the number of rectangles) and output the estimated $\\pi$ value. Print the results with $N = 100, 1000$ and $10000$ and the corresponding error with true $\\pi$."
      ],
      "metadata": {
        "id": "GMCbcEs0vec4"
      }
    },
    {
      "cell_type": "code",
      "source": [
        "import math\n",
        "def NI_PI(N):\n",
        "  dx = 1/N\n",
        "  total_S = 0\n",
        "  for i in range(N):\n",
        "    x = dx * (i-1)\n",
        "    y = math.sqrt(1-x**2)\n",
        "    S_i = dx * y\n",
        "    total_S += S_i\n",
        "  estimated_pi = total_S * 4\n",
        "  error = abs(math.pi - estimated_pi)\n",
        "  print(f\"estimated pi is {estimated_pi}, error is {error}\")\n",
        "NI_PI(100)\n",
        "NI_PI(1000)\n",
        "NI_PI(10000)"
      ],
      "metadata": {
        "id": "KdfzDdNuBwIo",
        "outputId": "339404be-30a2-4645-a60d-1d7c9cec8ba7",
        "colab": {
          "base_uri": "https://localhost:8080/"
        }
      },
      "execution_count": null,
      "outputs": [
        {
          "output_type": "stream",
          "name": "stdout",
          "text": [
            "estimated pi is 3.1947723373371786, error is 0.053179683747385464\n",
            "estimated pi is 3.147376624199779, error is 0.005783970609985811\n",
            "estimated pi is 3.1421858208964903, error is 0.0005931673066972287\n"
          ]
        }
      ]
    },
    {
      "cell_type": "markdown",
      "source": [
        "## Problem 4 [30 Points]\n",
        "\n",
        "**Cash 5 Lottery**: Cash 5 lottery asks the player to select 5\n",
        "numbers from 1 and 35, and the player win the big prize by matching all five numbers. Write a function `count_matches` that takes a vector that contains 5 unique winning integers, and another vector of 5 unique integers a player chose. The numbers are NOT sorted. The function returns the number of matches between the winning numbers and your ticket.\n",
        "\n",
        "|Winning numbers|Player's numbers|function returns|\n",
        "|---------------|----------------|----------------|\n",
        "|[1,12,3,20,15] | [15,1,4,12,35] | 3 |\n",
        "|[35,7,26,17,8] | [8,7,26,35,17] | 5 |\n",
        "|[27,2,9,15,29] | [3,1,8,14,20]  | 0 |\n",
        "\n",
        "Write a Python code that reads 1000 Cash 5 tickes from txt file `tickets.txt` (each line contains 5 numbers that the player chose for a ticket) and compare them with the winning number [31,17,4,5,20]. Count how many tickets matches five numbers, four numbers, three numbers, two numbers, one numbers and zero numbers using the function `count_matches`.\n",
        "\n",
        "\n",
        "[*Hint: `tickets` is a list. You can define a dictionary match_counts which contains pairs of 5 matched numbers and the count of 5 matched numbers, 4 matched numbers and the count of 4 matched numbers, ...*]"
      ],
      "metadata": {
        "id": "j90Vscunzl_M"
      }
    },
    {
      "cell_type": "code",
      "source": [
        "def count_matches(winning_numbers, player_numbers):\n",
        "  \"\"\"\n",
        "    Function to count how many numbers match between the winning numbers\n",
        "    and the player's ticket.\n",
        "\n",
        "    Parameters:\n",
        "        winning_numbers (list of int): A list of 5 unique winning numbers.\n",
        "        player_numbers (list of int): A list of 5 unique numbers chosen by the player.\n",
        "\n",
        "    Returns:\n",
        "        int: The number of matches (0 to 5).\n",
        "    \"\"\"\n",
        "  match_numbers = 0\n",
        "  for i in range(len(player_numbers)):\n",
        "    for j in range(len(player_numbers[i])):\n",
        "      if player_numbers[i][j] in winning_numbers:\n",
        "        match_numbers  += 1\n",
        "  return match_numbers\n"
      ],
      "metadata": {
        "id": "mJYESyxtzrlR"
      },
      "execution_count": 2,
      "outputs": []
    },
    {
      "cell_type": "code",
      "source": [
        "# Step 1: Get the 5 Winning Numbers from User\n",
        "winning_numbers = [31,  17,  4,  5,  20]\n",
        "# Step 2: Open the file containing 1000 tickets\n",
        "with open(\"tickets.txt\", \"r\") as file:\n",
        "  tickets = [list(map(int, line.split())) for line in file]\n",
        "## implement following steps here\n",
        "match_counts = {}\n",
        "for _ in range(6):\n",
        "  match_counts[_] = 0\n",
        "for i in range(len(tickets)):\n",
        "  count_matches(winning_numbers, tickets[i])\n",
        "  match_counts[match_numbers] += 1\n",
        "print(match_counts)\n",
        "\n"
      ],
      "metadata": {
        "id": "31_m3-Vdz84j",
        "outputId": "3bc14ab1-b932-414f-a67f-f28a2e722a6c",
        "colab": {
          "base_uri": "https://localhost:8080/",
          "height": 216
        }
      },
      "execution_count": 5,
      "outputs": [
        {
          "output_type": "error",
          "ename": "FileNotFoundError",
          "evalue": "[Errno 2] No such file or directory: 'tickets.txt'",
          "traceback": [
            "\u001b[0;31m---------------------------------------------------------------------------\u001b[0m",
            "\u001b[0;31mFileNotFoundError\u001b[0m                         Traceback (most recent call last)",
            "\u001b[0;32m<ipython-input-5-d9835c0ee6ee>\u001b[0m in \u001b[0;36m<cell line: 0>\u001b[0;34m()\u001b[0m\n\u001b[1;32m      2\u001b[0m \u001b[0mwinning_numbers\u001b[0m \u001b[0;34m=\u001b[0m \u001b[0;34m[\u001b[0m\u001b[0;36m31\u001b[0m\u001b[0;34m,\u001b[0m  \u001b[0;36m17\u001b[0m\u001b[0;34m,\u001b[0m  \u001b[0;36m4\u001b[0m\u001b[0;34m,\u001b[0m  \u001b[0;36m5\u001b[0m\u001b[0;34m,\u001b[0m  \u001b[0;36m20\u001b[0m\u001b[0;34m]\u001b[0m\u001b[0;34m\u001b[0m\u001b[0;34m\u001b[0m\u001b[0m\n\u001b[1;32m      3\u001b[0m \u001b[0;31m# Step 2: Open the file containing 1000 tickets\u001b[0m\u001b[0;34m\u001b[0m\u001b[0;34m\u001b[0m\u001b[0m\n\u001b[0;32m----> 4\u001b[0;31m \u001b[0;32mwith\u001b[0m \u001b[0mopen\u001b[0m\u001b[0;34m(\u001b[0m\u001b[0;34m\"tickets.txt\"\u001b[0m\u001b[0;34m,\u001b[0m \u001b[0;34m\"r\"\u001b[0m\u001b[0;34m)\u001b[0m \u001b[0;32mas\u001b[0m \u001b[0mfile\u001b[0m\u001b[0;34m:\u001b[0m\u001b[0;34m\u001b[0m\u001b[0;34m\u001b[0m\u001b[0m\n\u001b[0m\u001b[1;32m      5\u001b[0m   \u001b[0mtickets\u001b[0m \u001b[0;34m=\u001b[0m \u001b[0;34m[\u001b[0m\u001b[0mlist\u001b[0m\u001b[0;34m(\u001b[0m\u001b[0mmap\u001b[0m\u001b[0;34m(\u001b[0m\u001b[0mint\u001b[0m\u001b[0;34m,\u001b[0m \u001b[0mline\u001b[0m\u001b[0;34m.\u001b[0m\u001b[0msplit\u001b[0m\u001b[0;34m(\u001b[0m\u001b[0;34m)\u001b[0m\u001b[0;34m)\u001b[0m\u001b[0;34m)\u001b[0m \u001b[0;32mfor\u001b[0m \u001b[0mline\u001b[0m \u001b[0;32min\u001b[0m \u001b[0mfile\u001b[0m\u001b[0;34m]\u001b[0m\u001b[0;34m\u001b[0m\u001b[0;34m\u001b[0m\u001b[0m\n\u001b[1;32m      6\u001b[0m \u001b[0;31m## implement following steps here\u001b[0m\u001b[0;34m\u001b[0m\u001b[0;34m\u001b[0m\u001b[0m\n",
            "\u001b[0;31mFileNotFoundError\u001b[0m: [Errno 2] No such file or directory: 'tickets.txt'"
          ]
        }
      ]
    },
    {
      "cell_type": "markdown",
      "source": [
        "## Problem 5 [30 Points]\n",
        "\n",
        "Read more about magic method: Magic Method : https://python-course.eu/oop/magic-methods.php\n",
        "### Add more operations to `Rational` in Lecture 23.\n",
        "You can read about the available operations that you can overload [here](https://docs.python.org/3.7/reference/datamodel.html#emulating-numeric-types)\n",
        "\n",
        "Add the following operations to the `Rational` class:\n",
        "* `*` - use `__mul__`\n",
        "* `/` - use `__truediv__`\n",
        "* `-` - use `__sub__`\n",
        "\n",
        "You only need to define these operations between two `Rational` types - use an `if isinstance(other, Rational):` block.\n",
        "\n",
        "Test the results with $r_1 = 3/4$, $r_2 = 5/2$ and print `r_1 *r_2`, `r_1/r_2` and `r_1-r_2` and `float(r1/r2)`"
      ],
      "metadata": {
        "id": "6wl6dtQi_ntK"
      }
    },
    {
      "cell_type": "code",
      "source": [
        "class Rational:\n",
        "    def __init__(self, p, q=1):\n",
        "\n",
        "        if q == 0:\n",
        "            raise ValueError(\"Denominator must not be zero\")\n",
        "        if not isinstance(p, int):\n",
        "            raise TypeError(\"Numerator must be an integer\")\n",
        "        if not isinstance(q, int):\n",
        "            raise TypeError(\"Denominator must be an integer\")\n",
        "\n",
        "        g = math.gcd(p, q)\n",
        "\n",
        "        self.p = p // g\n",
        "        self.q = q // g\n",
        "\n",
        "    # method to convert rational to float\n",
        "    def __float__(self):\n",
        "        return float(self.p) / float(self.q)\n",
        "\n",
        "    # method to convert rational to string for printing\n",
        "    def __str__(self):\n",
        "        return \"%d / %d\" % (self.p, self.q)\n",
        "\n",
        "    # method to add two rationals - interprets self + other\n",
        "    def __add__(self, other):\n",
        "        if isinstance(other, Rational):\n",
        "            return Rational(self.p * other.q + other.p * self.q, self.q * other.q)\n",
        "        # -- if it's an integer...\n",
        "        elif isinstance(other, int):\n",
        "            return Rational(self.p + other * self.q, self.q)\n",
        "        # -- otherwise, we assume it will be a float\n",
        "        return float(self) + float(other)\n",
        "\n",
        "    def __radd__(self, other):  # interprets other + self\n",
        "        return self + other  # addition commutes!\n",
        "\n",
        "    # subtraction\n",
        "\n",
        "\n",
        "\n",
        "    # multiplication\n",
        "\n",
        "\n",
        "\n",
        "    # division\n"
      ],
      "metadata": {
        "id": "DD6XREdE_oFt"
      },
      "execution_count": null,
      "outputs": []
    },
    {
      "cell_type": "code",
      "source": [
        "r1 = Rational(3,4)\n",
        "r2 = Rational(5,2)\n",
        "print(f\"r1 * r2 = {r1*r2}\")\n",
        "print(f\"r1 / r2 = {r1/r2}\")\n",
        "print(f\"r1 - r2 = {r1-r2}\")\n",
        "print(f\"float(r1/r2) = {float(r1/r2)}\")"
      ],
      "metadata": {
        "id": "uPiVeSWTAkOk"
      },
      "execution_count": null,
      "outputs": []
    },
    {
      "cell_type": "code",
      "source": [],
      "metadata": {
        "id": "uZ-IKYEuAt_-"
      },
      "execution_count": null,
      "outputs": []
    }
  ]
}